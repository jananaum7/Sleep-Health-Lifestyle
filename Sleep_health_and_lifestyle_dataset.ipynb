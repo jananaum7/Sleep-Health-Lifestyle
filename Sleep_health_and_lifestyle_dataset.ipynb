{
 "cells": [
  {
   "cell_type": "code",
   "execution_count": 1,
   "metadata": {},
   "outputs": [],
   "source": [
    "import pandas as pd"
   ]
  },
  {
   "cell_type": "markdown",
   "metadata": {},
   "source": [
    "## Data Cleaning and Preparation "
   ]
  },
  {
   "cell_type": "code",
   "execution_count": 8,
   "metadata": {},
   "outputs": [
    {
     "data": {
      "text/html": [
       "<div>\n",
       "<style scoped>\n",
       "    .dataframe tbody tr th:only-of-type {\n",
       "        vertical-align: middle;\n",
       "    }\n",
       "\n",
       "    .dataframe tbody tr th {\n",
       "        vertical-align: top;\n",
       "    }\n",
       "\n",
       "    .dataframe thead th {\n",
       "        text-align: right;\n",
       "    }\n",
       "</style>\n",
       "<table border=\"1\" class=\"dataframe\">\n",
       "  <thead>\n",
       "    <tr style=\"text-align: right;\">\n",
       "      <th></th>\n",
       "      <th>Person ID</th>\n",
       "      <th>Gender</th>\n",
       "      <th>Age</th>\n",
       "      <th>Occupation</th>\n",
       "      <th>Sleep Duration</th>\n",
       "      <th>Quality of Sleep</th>\n",
       "      <th>Physical Activity Level</th>\n",
       "      <th>Stress Level</th>\n",
       "      <th>BMI Category</th>\n",
       "      <th>Blood Pressure</th>\n",
       "      <th>Heart Rate</th>\n",
       "      <th>Daily Steps</th>\n",
       "      <th>Sleep Disorder</th>\n",
       "    </tr>\n",
       "  </thead>\n",
       "  <tbody>\n",
       "    <tr>\n",
       "      <th>0</th>\n",
       "      <td>1</td>\n",
       "      <td>Male</td>\n",
       "      <td>27</td>\n",
       "      <td>Software Engineer</td>\n",
       "      <td>6.1</td>\n",
       "      <td>6</td>\n",
       "      <td>42</td>\n",
       "      <td>6</td>\n",
       "      <td>Overweight</td>\n",
       "      <td>126/83</td>\n",
       "      <td>77</td>\n",
       "      <td>4200</td>\n",
       "      <td>NaN</td>\n",
       "    </tr>\n",
       "    <tr>\n",
       "      <th>1</th>\n",
       "      <td>2</td>\n",
       "      <td>Male</td>\n",
       "      <td>28</td>\n",
       "      <td>Doctor</td>\n",
       "      <td>6.2</td>\n",
       "      <td>6</td>\n",
       "      <td>60</td>\n",
       "      <td>8</td>\n",
       "      <td>Normal</td>\n",
       "      <td>125/80</td>\n",
       "      <td>75</td>\n",
       "      <td>10000</td>\n",
       "      <td>NaN</td>\n",
       "    </tr>\n",
       "    <tr>\n",
       "      <th>2</th>\n",
       "      <td>3</td>\n",
       "      <td>Male</td>\n",
       "      <td>28</td>\n",
       "      <td>Doctor</td>\n",
       "      <td>6.2</td>\n",
       "      <td>6</td>\n",
       "      <td>60</td>\n",
       "      <td>8</td>\n",
       "      <td>Normal</td>\n",
       "      <td>125/80</td>\n",
       "      <td>75</td>\n",
       "      <td>10000</td>\n",
       "      <td>NaN</td>\n",
       "    </tr>\n",
       "    <tr>\n",
       "      <th>3</th>\n",
       "      <td>4</td>\n",
       "      <td>Male</td>\n",
       "      <td>28</td>\n",
       "      <td>Sales Representative</td>\n",
       "      <td>5.9</td>\n",
       "      <td>4</td>\n",
       "      <td>30</td>\n",
       "      <td>8</td>\n",
       "      <td>Obese</td>\n",
       "      <td>140/90</td>\n",
       "      <td>85</td>\n",
       "      <td>3000</td>\n",
       "      <td>Sleep Apnea</td>\n",
       "    </tr>\n",
       "    <tr>\n",
       "      <th>4</th>\n",
       "      <td>5</td>\n",
       "      <td>Male</td>\n",
       "      <td>28</td>\n",
       "      <td>Sales Representative</td>\n",
       "      <td>5.9</td>\n",
       "      <td>4</td>\n",
       "      <td>30</td>\n",
       "      <td>8</td>\n",
       "      <td>Obese</td>\n",
       "      <td>140/90</td>\n",
       "      <td>85</td>\n",
       "      <td>3000</td>\n",
       "      <td>Sleep Apnea</td>\n",
       "    </tr>\n",
       "  </tbody>\n",
       "</table>\n",
       "</div>"
      ],
      "text/plain": [
       "   Person ID Gender  Age            Occupation  Sleep Duration  \\\n",
       "0          1   Male   27     Software Engineer             6.1   \n",
       "1          2   Male   28                Doctor             6.2   \n",
       "2          3   Male   28                Doctor             6.2   \n",
       "3          4   Male   28  Sales Representative             5.9   \n",
       "4          5   Male   28  Sales Representative             5.9   \n",
       "\n",
       "   Quality of Sleep  Physical Activity Level  Stress Level BMI Category  \\\n",
       "0                 6                       42             6   Overweight   \n",
       "1                 6                       60             8       Normal   \n",
       "2                 6                       60             8       Normal   \n",
       "3                 4                       30             8        Obese   \n",
       "4                 4                       30             8        Obese   \n",
       "\n",
       "  Blood Pressure  Heart Rate  Daily Steps Sleep Disorder  \n",
       "0         126/83          77         4200            NaN  \n",
       "1         125/80          75        10000            NaN  \n",
       "2         125/80          75        10000            NaN  \n",
       "3         140/90          85         3000    Sleep Apnea  \n",
       "4         140/90          85         3000    Sleep Apnea  "
      ]
     },
     "execution_count": 8,
     "metadata": {},
     "output_type": "execute_result"
    }
   ],
   "source": [
    "# Load the dataset\n",
    "sleep_health_df = pd.read_csv(\"Resources/Sleep_health_and_lifestyle_dataset.csv\")\n",
    "sleep_health_df.head()"
   ]
  },
  {
   "cell_type": "code",
   "execution_count": null,
   "metadata": {},
   "outputs": [
    {
     "data": {
      "text/plain": [
       "Person ID                    0\n",
       "Gender                       0\n",
       "Age                          0\n",
       "Occupation                   0\n",
       "Sleep Duration               0\n",
       "Quality of Sleep             0\n",
       "Physical Activity Level      0\n",
       "Stress Level                 0\n",
       "BMI Category                 0\n",
       "Blood Pressure               0\n",
       "Heart Rate                   0\n",
       "Daily Steps                  0\n",
       "Sleep Disorder             219\n",
       "dtype: int64"
      ]
     },
     "execution_count": 5,
     "metadata": {},
     "output_type": "execute_result"
    }
   ],
   "source": [
    "# Check for any missing values \n",
    "sleep_health_df.isnull().sum()"
   ]
  },
  {
   "cell_type": "code",
   "execution_count": 15,
   "metadata": {},
   "outputs": [
    {
     "ename": "TypeError",
     "evalue": "Cannot convert [nan nan nan 'Sleep Apnea' 'Sleep Apnea' 'Insomnia' 'Insomnia' nan nan nan\n nan nan nan nan nan nan 'Sleep Apnea' 'Sleep Apnea' 'Insomnia' nan nan\n nan nan nan nan nan nan nan nan nan 'Sleep Apnea' 'Insomnia' nan nan nan\n nan nan nan nan nan nan nan nan nan nan nan nan nan nan 'Sleep Apnea' nan\n nan nan nan nan nan nan nan nan nan nan nan nan nan nan nan nan\n 'Insomnia' nan nan nan nan nan nan nan nan nan nan nan nan 'Sleep Apnea'\n 'Sleep Apnea' nan nan nan nan nan nan nan nan nan nan nan 'Sleep Apnea'\n 'Insomnia' nan nan nan nan nan nan nan nan 'Sleep Apnea' 'Sleep Apnea'\n 'Insomnia' nan nan nan nan nan nan nan nan nan nan nan nan nan nan nan\n nan nan nan nan nan nan nan nan nan nan nan nan nan nan nan nan nan nan\n nan nan nan nan nan 'Sleep Apnea' 'Sleep Apnea' 'Insomnia' 'Insomnia' nan\n nan nan nan nan nan nan nan nan nan nan nan nan nan nan nan nan\n 'Insomnia' nan nan nan nan nan nan nan nan nan nan nan 'Insomnia' nan nan\n nan nan nan nan 'Sleep Apnea' 'Sleep Apnea' 'Insomnia' 'Insomnia'\n 'Insomnia' 'Insomnia' 'Insomnia' 'Insomnia' 'Insomnia' 'Insomnia'\n 'Insomnia' 'Insomnia' 'Insomnia' 'Insomnia' 'Insomnia' 'Insomnia'\n 'Insomnia' 'Insomnia' 'Insomnia' nan nan nan nan nan nan nan nan nan nan\n nan nan nan nan nan 'Sleep Apnea' 'Sleep Apnea' 'Insomnia' 'Insomnia'\n 'Insomnia' 'Insomnia' 'Insomnia' 'Insomnia' 'Insomnia' 'Insomnia'\n 'Insomnia' 'Insomnia' 'Insomnia' 'Insomnia' 'Insomnia' 'Insomnia'\n 'Insomnia' 'Insomnia' 'Insomnia' 'Insomnia' 'Insomnia' 'Insomnia'\n 'Insomnia' 'Insomnia' 'Insomnia' 'Insomnia' 'Insomnia' 'Insomnia'\n 'Insomnia' 'Insomnia' nan nan 'Insomnia' 'Insomnia' 'Insomnia' 'Insomnia'\n 'Insomnia' 'Insomnia' 'Insomnia' 'Insomnia' 'Insomnia' 'Insomnia'\n 'Insomnia' nan nan nan 'Insomnia' 'Sleep Apnea' 'Insomnia' nan\n 'Sleep Apnea' 'Sleep Apnea' 'Sleep Apnea' 'Sleep Apnea' 'Sleep Apnea'\n 'Sleep Apnea' 'Sleep Apnea' 'Sleep Apnea' 'Sleep Apnea' 'Sleep Apnea'\n 'Insomnia' nan nan 'Sleep Apnea' 'Sleep Apnea' 'Sleep Apnea'\n 'Sleep Apnea' 'Sleep Apnea' 'Sleep Apnea' 'Sleep Apnea' 'Sleep Apnea'\n 'Sleep Apnea' 'Sleep Apnea' 'Sleep Apnea' 'Sleep Apnea' 'Sleep Apnea'\n 'Sleep Apnea' 'Sleep Apnea' 'Sleep Apnea' 'Sleep Apnea' nan nan nan nan\n nan 'Sleep Apnea' 'Sleep Apnea' 'Sleep Apnea' 'Insomnia' 'Insomnia'\n 'Insomnia' 'Insomnia' 'Insomnia' 'Insomnia' nan nan nan 'Insomnia' nan\n nan nan nan nan nan nan nan nan nan nan nan nan nan nan nan nan nan nan\n nan nan nan nan 'Sleep Apnea' 'Sleep Apnea' nan nan nan 'Sleep Apnea'\n 'Sleep Apnea' 'Sleep Apnea' 'Sleep Apnea' 'Sleep Apnea' 'Sleep Apnea'\n 'Sleep Apnea' 'Sleep Apnea' 'Sleep Apnea' 'Sleep Apnea' 'Sleep Apnea'\n 'Sleep Apnea' 'Sleep Apnea' 'Sleep Apnea' nan nan 'Sleep Apnea'\n 'Sleep Apnea' 'Sleep Apnea' 'Sleep Apnea' 'Sleep Apnea' 'Sleep Apnea'\n 'Sleep Apnea' 'Sleep Apnea' 'Sleep Apnea' 'Sleep Apnea' 'Sleep Apnea'\n 'Sleep Apnea' 'Sleep Apnea' 'Sleep Apnea'] to numeric",
     "output_type": "error",
     "traceback": [
      "\u001b[1;31m---------------------------------------------------------------------------\u001b[0m",
      "\u001b[1;31mTypeError\u001b[0m                                 Traceback (most recent call last)",
      "Cell \u001b[1;32mIn[15], line 2\u001b[0m\n\u001b[0;32m      1\u001b[0m sleep_health_df\u001b[38;5;241m.\u001b[39mdescribe()\n\u001b[1;32m----> 2\u001b[0m sleep_health_df[\u001b[38;5;124m'\u001b[39m\u001b[38;5;124mSleep Disorder\u001b[39m\u001b[38;5;124m'\u001b[39m]\u001b[38;5;241m.\u001b[39mfillna(\u001b[43msleep_health_df\u001b[49m\u001b[43m[\u001b[49m\u001b[38;5;124;43m'\u001b[39;49m\u001b[38;5;124;43mSleep Disorder\u001b[39;49m\u001b[38;5;124;43m'\u001b[39;49m\u001b[43m]\u001b[49m\u001b[38;5;241;43m.\u001b[39;49m\u001b[43mmedian\u001b[49m\u001b[43m(\u001b[49m\u001b[43m)\u001b[49m)\n",
      "File \u001b[1;32mc:\\Users\\tasee\\anaconda3\\envs\\dev\\Lib\\site-packages\\pandas\\core\\series.py:6559\u001b[0m, in \u001b[0;36mSeries.median\u001b[1;34m(self, axis, skipna, numeric_only, **kwargs)\u001b[0m\n\u001b[0;32m   6551\u001b[0m \u001b[38;5;129m@doc\u001b[39m(make_doc(\u001b[38;5;124m\"\u001b[39m\u001b[38;5;124mmedian\u001b[39m\u001b[38;5;124m\"\u001b[39m, ndim\u001b[38;5;241m=\u001b[39m\u001b[38;5;241m1\u001b[39m))\n\u001b[0;32m   6552\u001b[0m \u001b[38;5;28;01mdef\u001b[39;00m \u001b[38;5;21mmedian\u001b[39m(\n\u001b[0;32m   6553\u001b[0m     \u001b[38;5;28mself\u001b[39m,\n\u001b[1;32m   (...)\u001b[0m\n\u001b[0;32m   6557\u001b[0m     \u001b[38;5;241m*\u001b[39m\u001b[38;5;241m*\u001b[39mkwargs,\n\u001b[0;32m   6558\u001b[0m ):\n\u001b[1;32m-> 6559\u001b[0m     \u001b[38;5;28;01mreturn\u001b[39;00m \u001b[43mNDFrame\u001b[49m\u001b[38;5;241;43m.\u001b[39;49m\u001b[43mmedian\u001b[49m\u001b[43m(\u001b[49m\u001b[38;5;28;43mself\u001b[39;49m\u001b[43m,\u001b[49m\u001b[43m \u001b[49m\u001b[43maxis\u001b[49m\u001b[43m,\u001b[49m\u001b[43m \u001b[49m\u001b[43mskipna\u001b[49m\u001b[43m,\u001b[49m\u001b[43m \u001b[49m\u001b[43mnumeric_only\u001b[49m\u001b[43m,\u001b[49m\u001b[43m \u001b[49m\u001b[38;5;241;43m*\u001b[39;49m\u001b[38;5;241;43m*\u001b[39;49m\u001b[43mkwargs\u001b[49m\u001b[43m)\u001b[49m\n",
      "File \u001b[1;32mc:\\Users\\tasee\\anaconda3\\envs\\dev\\Lib\\site-packages\\pandas\\core\\generic.py:12431\u001b[0m, in \u001b[0;36mNDFrame.median\u001b[1;34m(self, axis, skipna, numeric_only, **kwargs)\u001b[0m\n\u001b[0;32m  12424\u001b[0m \u001b[38;5;28;01mdef\u001b[39;00m \u001b[38;5;21mmedian\u001b[39m(\n\u001b[0;32m  12425\u001b[0m     \u001b[38;5;28mself\u001b[39m,\n\u001b[0;32m  12426\u001b[0m     axis: Axis \u001b[38;5;241m|\u001b[39m \u001b[38;5;28;01mNone\u001b[39;00m \u001b[38;5;241m=\u001b[39m \u001b[38;5;241m0\u001b[39m,\n\u001b[1;32m   (...)\u001b[0m\n\u001b[0;32m  12429\u001b[0m     \u001b[38;5;241m*\u001b[39m\u001b[38;5;241m*\u001b[39mkwargs,\n\u001b[0;32m  12430\u001b[0m ) \u001b[38;5;241m-\u001b[39m\u001b[38;5;241m>\u001b[39m Series \u001b[38;5;241m|\u001b[39m \u001b[38;5;28mfloat\u001b[39m:\n\u001b[1;32m> 12431\u001b[0m     \u001b[38;5;28;01mreturn\u001b[39;00m \u001b[38;5;28;43mself\u001b[39;49m\u001b[38;5;241;43m.\u001b[39;49m\u001b[43m_stat_function\u001b[49m\u001b[43m(\u001b[49m\n\u001b[0;32m  12432\u001b[0m \u001b[43m        \u001b[49m\u001b[38;5;124;43m\"\u001b[39;49m\u001b[38;5;124;43mmedian\u001b[39;49m\u001b[38;5;124;43m\"\u001b[39;49m\u001b[43m,\u001b[49m\u001b[43m \u001b[49m\u001b[43mnanops\u001b[49m\u001b[38;5;241;43m.\u001b[39;49m\u001b[43mnanmedian\u001b[49m\u001b[43m,\u001b[49m\u001b[43m \u001b[49m\u001b[43maxis\u001b[49m\u001b[43m,\u001b[49m\u001b[43m \u001b[49m\u001b[43mskipna\u001b[49m\u001b[43m,\u001b[49m\u001b[43m \u001b[49m\u001b[43mnumeric_only\u001b[49m\u001b[43m,\u001b[49m\u001b[43m \u001b[49m\u001b[38;5;241;43m*\u001b[39;49m\u001b[38;5;241;43m*\u001b[39;49m\u001b[43mkwargs\u001b[49m\n\u001b[0;32m  12433\u001b[0m \u001b[43m    \u001b[49m\u001b[43m)\u001b[49m\n",
      "File \u001b[1;32mc:\\Users\\tasee\\anaconda3\\envs\\dev\\Lib\\site-packages\\pandas\\core\\generic.py:12377\u001b[0m, in \u001b[0;36mNDFrame._stat_function\u001b[1;34m(self, name, func, axis, skipna, numeric_only, **kwargs)\u001b[0m\n\u001b[0;32m  12373\u001b[0m nv\u001b[38;5;241m.\u001b[39mvalidate_func(name, (), kwargs)\n\u001b[0;32m  12375\u001b[0m validate_bool_kwarg(skipna, \u001b[38;5;124m\"\u001b[39m\u001b[38;5;124mskipna\u001b[39m\u001b[38;5;124m\"\u001b[39m, none_allowed\u001b[38;5;241m=\u001b[39m\u001b[38;5;28;01mFalse\u001b[39;00m)\n\u001b[1;32m> 12377\u001b[0m \u001b[38;5;28;01mreturn\u001b[39;00m \u001b[38;5;28;43mself\u001b[39;49m\u001b[38;5;241;43m.\u001b[39;49m\u001b[43m_reduce\u001b[49m\u001b[43m(\u001b[49m\n\u001b[0;32m  12378\u001b[0m \u001b[43m    \u001b[49m\u001b[43mfunc\u001b[49m\u001b[43m,\u001b[49m\u001b[43m \u001b[49m\u001b[43mname\u001b[49m\u001b[38;5;241;43m=\u001b[39;49m\u001b[43mname\u001b[49m\u001b[43m,\u001b[49m\u001b[43m \u001b[49m\u001b[43maxis\u001b[49m\u001b[38;5;241;43m=\u001b[39;49m\u001b[43maxis\u001b[49m\u001b[43m,\u001b[49m\u001b[43m \u001b[49m\u001b[43mskipna\u001b[49m\u001b[38;5;241;43m=\u001b[39;49m\u001b[43mskipna\u001b[49m\u001b[43m,\u001b[49m\u001b[43m \u001b[49m\u001b[43mnumeric_only\u001b[49m\u001b[38;5;241;43m=\u001b[39;49m\u001b[43mnumeric_only\u001b[49m\n\u001b[0;32m  12379\u001b[0m \u001b[43m\u001b[49m\u001b[43m)\u001b[49m\n",
      "File \u001b[1;32mc:\\Users\\tasee\\anaconda3\\envs\\dev\\Lib\\site-packages\\pandas\\core\\series.py:6457\u001b[0m, in \u001b[0;36mSeries._reduce\u001b[1;34m(self, op, name, axis, skipna, numeric_only, filter_type, **kwds)\u001b[0m\n\u001b[0;32m   6452\u001b[0m     \u001b[38;5;66;03m# GH#47500 - change to TypeError to match other methods\u001b[39;00m\n\u001b[0;32m   6453\u001b[0m     \u001b[38;5;28;01mraise\u001b[39;00m \u001b[38;5;167;01mTypeError\u001b[39;00m(\n\u001b[0;32m   6454\u001b[0m         \u001b[38;5;124mf\u001b[39m\u001b[38;5;124m\"\u001b[39m\u001b[38;5;124mSeries.\u001b[39m\u001b[38;5;132;01m{\u001b[39;00mname\u001b[38;5;132;01m}\u001b[39;00m\u001b[38;5;124m does not allow \u001b[39m\u001b[38;5;132;01m{\u001b[39;00mkwd_name\u001b[38;5;132;01m}\u001b[39;00m\u001b[38;5;124m=\u001b[39m\u001b[38;5;132;01m{\u001b[39;00mnumeric_only\u001b[38;5;132;01m}\u001b[39;00m\u001b[38;5;124m \u001b[39m\u001b[38;5;124m\"\u001b[39m\n\u001b[0;32m   6455\u001b[0m         \u001b[38;5;124m\"\u001b[39m\u001b[38;5;124mwith non-numeric dtypes.\u001b[39m\u001b[38;5;124m\"\u001b[39m\n\u001b[0;32m   6456\u001b[0m     )\n\u001b[1;32m-> 6457\u001b[0m \u001b[38;5;28;01mreturn\u001b[39;00m \u001b[43mop\u001b[49m\u001b[43m(\u001b[49m\u001b[43mdelegate\u001b[49m\u001b[43m,\u001b[49m\u001b[43m \u001b[49m\u001b[43mskipna\u001b[49m\u001b[38;5;241;43m=\u001b[39;49m\u001b[43mskipna\u001b[49m\u001b[43m,\u001b[49m\u001b[43m \u001b[49m\u001b[38;5;241;43m*\u001b[39;49m\u001b[38;5;241;43m*\u001b[39;49m\u001b[43mkwds\u001b[49m\u001b[43m)\u001b[49m\n",
      "File \u001b[1;32mc:\\Users\\tasee\\anaconda3\\envs\\dev\\Lib\\site-packages\\pandas\\core\\nanops.py:147\u001b[0m, in \u001b[0;36mbottleneck_switch.__call__.<locals>.f\u001b[1;34m(values, axis, skipna, **kwds)\u001b[0m\n\u001b[0;32m    145\u001b[0m         result \u001b[38;5;241m=\u001b[39m alt(values, axis\u001b[38;5;241m=\u001b[39maxis, skipna\u001b[38;5;241m=\u001b[39mskipna, \u001b[38;5;241m*\u001b[39m\u001b[38;5;241m*\u001b[39mkwds)\n\u001b[0;32m    146\u001b[0m \u001b[38;5;28;01melse\u001b[39;00m:\n\u001b[1;32m--> 147\u001b[0m     result \u001b[38;5;241m=\u001b[39m \u001b[43malt\u001b[49m\u001b[43m(\u001b[49m\u001b[43mvalues\u001b[49m\u001b[43m,\u001b[49m\u001b[43m \u001b[49m\u001b[43maxis\u001b[49m\u001b[38;5;241;43m=\u001b[39;49m\u001b[43maxis\u001b[49m\u001b[43m,\u001b[49m\u001b[43m \u001b[49m\u001b[43mskipna\u001b[49m\u001b[38;5;241;43m=\u001b[39;49m\u001b[43mskipna\u001b[49m\u001b[43m,\u001b[49m\u001b[43m \u001b[49m\u001b[38;5;241;43m*\u001b[39;49m\u001b[38;5;241;43m*\u001b[39;49m\u001b[43mkwds\u001b[49m\u001b[43m)\u001b[49m\n\u001b[0;32m    149\u001b[0m \u001b[38;5;28;01mreturn\u001b[39;00m result\n",
      "File \u001b[1;32mc:\\Users\\tasee\\anaconda3\\envs\\dev\\Lib\\site-packages\\pandas\\core\\nanops.py:787\u001b[0m, in \u001b[0;36mnanmedian\u001b[1;34m(values, axis, skipna, mask)\u001b[0m\n\u001b[0;32m    785\u001b[0m     inferred \u001b[38;5;241m=\u001b[39m lib\u001b[38;5;241m.\u001b[39minfer_dtype(values)\n\u001b[0;32m    786\u001b[0m     \u001b[38;5;28;01mif\u001b[39;00m inferred \u001b[38;5;129;01min\u001b[39;00m [\u001b[38;5;124m\"\u001b[39m\u001b[38;5;124mstring\u001b[39m\u001b[38;5;124m\"\u001b[39m, \u001b[38;5;124m\"\u001b[39m\u001b[38;5;124mmixed\u001b[39m\u001b[38;5;124m\"\u001b[39m]:\n\u001b[1;32m--> 787\u001b[0m         \u001b[38;5;28;01mraise\u001b[39;00m \u001b[38;5;167;01mTypeError\u001b[39;00m(\u001b[38;5;124mf\u001b[39m\u001b[38;5;124m\"\u001b[39m\u001b[38;5;124mCannot convert \u001b[39m\u001b[38;5;132;01m{\u001b[39;00mvalues\u001b[38;5;132;01m}\u001b[39;00m\u001b[38;5;124m to numeric\u001b[39m\u001b[38;5;124m\"\u001b[39m)\n\u001b[0;32m    788\u001b[0m \u001b[38;5;28;01mtry\u001b[39;00m:\n\u001b[0;32m    789\u001b[0m     values \u001b[38;5;241m=\u001b[39m values\u001b[38;5;241m.\u001b[39mastype(\u001b[38;5;124m\"\u001b[39m\u001b[38;5;124mf8\u001b[39m\u001b[38;5;124m\"\u001b[39m)\n",
      "\u001b[1;31mTypeError\u001b[0m: Cannot convert [nan nan nan 'Sleep Apnea' 'Sleep Apnea' 'Insomnia' 'Insomnia' nan nan nan\n nan nan nan nan nan nan 'Sleep Apnea' 'Sleep Apnea' 'Insomnia' nan nan\n nan nan nan nan nan nan nan nan nan 'Sleep Apnea' 'Insomnia' nan nan nan\n nan nan nan nan nan nan nan nan nan nan nan nan nan nan 'Sleep Apnea' nan\n nan nan nan nan nan nan nan nan nan nan nan nan nan nan nan nan\n 'Insomnia' nan nan nan nan nan nan nan nan nan nan nan nan 'Sleep Apnea'\n 'Sleep Apnea' nan nan nan nan nan nan nan nan nan nan nan 'Sleep Apnea'\n 'Insomnia' nan nan nan nan nan nan nan nan 'Sleep Apnea' 'Sleep Apnea'\n 'Insomnia' nan nan nan nan nan nan nan nan nan nan nan nan nan nan nan\n nan nan nan nan nan nan nan nan nan nan nan nan nan nan nan nan nan nan\n nan nan nan nan nan 'Sleep Apnea' 'Sleep Apnea' 'Insomnia' 'Insomnia' nan\n nan nan nan nan nan nan nan nan nan nan nan nan nan nan nan nan\n 'Insomnia' nan nan nan nan nan nan nan nan nan nan nan 'Insomnia' nan nan\n nan nan nan nan 'Sleep Apnea' 'Sleep Apnea' 'Insomnia' 'Insomnia'\n 'Insomnia' 'Insomnia' 'Insomnia' 'Insomnia' 'Insomnia' 'Insomnia'\n 'Insomnia' 'Insomnia' 'Insomnia' 'Insomnia' 'Insomnia' 'Insomnia'\n 'Insomnia' 'Insomnia' 'Insomnia' nan nan nan nan nan nan nan nan nan nan\n nan nan nan nan nan 'Sleep Apnea' 'Sleep Apnea' 'Insomnia' 'Insomnia'\n 'Insomnia' 'Insomnia' 'Insomnia' 'Insomnia' 'Insomnia' 'Insomnia'\n 'Insomnia' 'Insomnia' 'Insomnia' 'Insomnia' 'Insomnia' 'Insomnia'\n 'Insomnia' 'Insomnia' 'Insomnia' 'Insomnia' 'Insomnia' 'Insomnia'\n 'Insomnia' 'Insomnia' 'Insomnia' 'Insomnia' 'Insomnia' 'Insomnia'\n 'Insomnia' 'Insomnia' nan nan 'Insomnia' 'Insomnia' 'Insomnia' 'Insomnia'\n 'Insomnia' 'Insomnia' 'Insomnia' 'Insomnia' 'Insomnia' 'Insomnia'\n 'Insomnia' nan nan nan 'Insomnia' 'Sleep Apnea' 'Insomnia' nan\n 'Sleep Apnea' 'Sleep Apnea' 'Sleep Apnea' 'Sleep Apnea' 'Sleep Apnea'\n 'Sleep Apnea' 'Sleep Apnea' 'Sleep Apnea' 'Sleep Apnea' 'Sleep Apnea'\n 'Insomnia' nan nan 'Sleep Apnea' 'Sleep Apnea' 'Sleep Apnea'\n 'Sleep Apnea' 'Sleep Apnea' 'Sleep Apnea' 'Sleep Apnea' 'Sleep Apnea'\n 'Sleep Apnea' 'Sleep Apnea' 'Sleep Apnea' 'Sleep Apnea' 'Sleep Apnea'\n 'Sleep Apnea' 'Sleep Apnea' 'Sleep Apnea' 'Sleep Apnea' nan nan nan nan\n nan 'Sleep Apnea' 'Sleep Apnea' 'Sleep Apnea' 'Insomnia' 'Insomnia'\n 'Insomnia' 'Insomnia' 'Insomnia' 'Insomnia' nan nan nan 'Insomnia' nan\n nan nan nan nan nan nan nan nan nan nan nan nan nan nan nan nan nan nan\n nan nan nan nan 'Sleep Apnea' 'Sleep Apnea' nan nan nan 'Sleep Apnea'\n 'Sleep Apnea' 'Sleep Apnea' 'Sleep Apnea' 'Sleep Apnea' 'Sleep Apnea'\n 'Sleep Apnea' 'Sleep Apnea' 'Sleep Apnea' 'Sleep Apnea' 'Sleep Apnea'\n 'Sleep Apnea' 'Sleep Apnea' 'Sleep Apnea' nan nan 'Sleep Apnea'\n 'Sleep Apnea' 'Sleep Apnea' 'Sleep Apnea' 'Sleep Apnea' 'Sleep Apnea'\n 'Sleep Apnea' 'Sleep Apnea' 'Sleep Apnea' 'Sleep Apnea' 'Sleep Apnea'\n 'Sleep Apnea' 'Sleep Apnea' 'Sleep Apnea'] to numeric"
     ]
    }
   ],
   "source": [
    "sleep_health_df.describe()\n",
    "sleep_health_df['Sleep Disorder'].fillna(sleep_health_df['Sleep Disorder'].median())"
   ]
  }
 ],
 "metadata": {
  "kernelspec": {
   "display_name": "dev",
   "language": "python",
   "name": "python3"
  },
  "language_info": {
   "codemirror_mode": {
    "name": "ipython",
    "version": 3
   },
   "file_extension": ".py",
   "mimetype": "text/x-python",
   "name": "python",
   "nbconvert_exporter": "python",
   "pygments_lexer": "ipython3",
   "version": "3.12.4"
  }
 },
 "nbformat": 4,
 "nbformat_minor": 2
}
